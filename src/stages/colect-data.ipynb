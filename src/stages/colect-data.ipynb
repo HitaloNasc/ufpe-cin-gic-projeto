{
 "cells": [
  {
   "cell_type": "markdown",
   "metadata": {},
   "source": [
    "# Colect data"
   ]
  },
  {
   "cell_type": "markdown",
   "metadata": {},
   "source": [
    "### Imports"
   ]
  },
  {
   "cell_type": "code",
   "execution_count": 6,
   "metadata": {},
   "outputs": [],
   "source": [
    "import json\n",
    "import pandas as pd\n",
    "from unidecode import unidecode"
   ]
  },
  {
   "cell_type": "markdown",
   "metadata": {},
   "source": [
    "### Configs"
   ]
  },
  {
   "cell_type": "code",
   "execution_count": 7,
   "metadata": {},
   "outputs": [],
   "source": [
    "directory = \"../../datasets\""
   ]
  },
  {
   "cell_type": "markdown",
   "metadata": {},
   "source": [
    "### Extract and save data"
   ]
  },
  {
   "cell_type": "code",
   "execution_count": 8,
   "metadata": {},
   "outputs": [
    {
     "name": "stdout",
     "output_type": "stream",
     "text": [
      "Data collected\n"
     ]
    }
   ],
   "source": [
    "prefix = \"discentes-ingressos-sisu-\"\n",
    "sufix = \"-ufpe.csv\"\n",
    "yaers = [\"2020\", \"2021\", \"2022\", \"2023\", \"2024\"]\n",
    "\n",
    "json_data = []\n",
    "\n",
    "for year in yaers:\n",
    "    data = pd.read_csv(f\"{directory}/{prefix}{year}{sufix}\")\n",
    "    data['CIDADE_ENDERECO'] = data['CIDADE_ENDERECO'].apply(\n",
    "        lambda x: unidecode(str(x)).upper())\n",
    "    data['NATURALIDADE'] = data['NATURALIDADE'].apply(\n",
    "        lambda x: unidecode(str(x)).upper())\n",
    "    dataset = json.loads(data.to_json(orient=\"records\"))\n",
    "    for line in dataset:\n",
    "        json_data.append(line)\n",
    "\n",
    "with open(f\"{directory}/colect-data.json\", 'w') as file:\n",
    "    json.dump(json_data, file)\n",
    "\n",
    "print(\"Data collected\")"
   ]
  }
 ],
 "metadata": {
  "kernelspec": {
   "display_name": "venv",
   "language": "python",
   "name": "python3"
  },
  "language_info": {
   "codemirror_mode": {
    "name": "ipython",
    "version": 3
   },
   "file_extension": ".py",
   "mimetype": "text/x-python",
   "name": "python",
   "nbconvert_exporter": "python",
   "pygments_lexer": "ipython3",
   "version": "3.10.12"
  }
 },
 "nbformat": 4,
 "nbformat_minor": 2
}
